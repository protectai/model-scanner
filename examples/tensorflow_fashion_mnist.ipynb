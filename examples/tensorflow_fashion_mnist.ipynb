{
 "cells": [
  {
   "cell_type": "code",
   "execution_count": 1,
   "metadata": {},
   "outputs": [],
   "source": [
    "import tensorflow as tf\n",
    "import os\n",
    "tf.compat.v1.logging.set_verbosity(tf.compat.v1.logging.ERROR)"
   ]
  },
  {
   "cell_type": "code",
   "execution_count": 2,
   "metadata": {},
   "outputs": [],
   "source": [
    "from utils.tensorflow_fashion_mnist_model import train_model, get_predictions\n",
    "from utils.tensorflow_codeinjection import MaliciousModule"
   ]
  },
  {
   "cell_type": "markdown",
   "metadata": {},
   "source": [
    "# Saving Model"
   ]
  },
  {
   "cell_type": "code",
   "execution_count": 3,
   "metadata": {},
   "outputs": [
    {
     "name": "stdout",
     "output_type": "stream",
     "text": [
      "Epoch 1/10\n",
      "1875/1875 [==============================] - 2s 775us/step - loss: 0.5044 - accuracy: 0.8235\n",
      "Epoch 2/10\n",
      "1875/1875 [==============================] - 1s 732us/step - loss: 0.3764 - accuracy: 0.8645\n",
      "Epoch 3/10\n",
      "1875/1875 [==============================] - 1s 747us/step - loss: 0.3393 - accuracy: 0.8759\n",
      "Epoch 4/10\n",
      "1875/1875 [==============================] - 1s 734us/step - loss: 0.3166 - accuracy: 0.8835\n",
      "Epoch 5/10\n",
      "1875/1875 [==============================] - 1s 750us/step - loss: 0.2966 - accuracy: 0.8907\n",
      "Epoch 6/10\n",
      "1875/1875 [==============================] - 1s 748us/step - loss: 0.2829 - accuracy: 0.8957\n",
      "Epoch 7/10\n",
      "1875/1875 [==============================] - 1s 754us/step - loss: 0.2700 - accuracy: 0.9001\n",
      "Epoch 8/10\n",
      "1875/1875 [==============================] - 1s 741us/step - loss: 0.2587 - accuracy: 0.9039\n",
      "Epoch 9/10\n",
      "1875/1875 [==============================] - 1s 745us/step - loss: 0.2508 - accuracy: 0.9076\n",
      "Epoch 10/10\n",
      "1875/1875 [==============================] - 1s 744us/step - loss: 0.2398 - accuracy: 0.9098\n",
      "313/313 [==============================] - 0s 470us/step - loss: 0.3486 - accuracy: 0.8768\n",
      "\n",
      "Model trained with test accuracy: 0.876800000667572\n"
     ]
    }
   ],
   "source": [
    "model_directory = \"TensorFlowModels\"\n",
    "if not os.path.isdir(model_directory):\n",
    "    os.mkdir(model_directory)\n",
    "\n",
    "\n",
    "safe_model_path = os.path.join(model_directory, \"safe_model\")\n",
    "model = train_model()\n",
    "model.save(safe_model_path)\n"
   ]
  },
  {
   "cell_type": "markdown",
   "metadata": {},
   "source": [
    "# Prediction using Safe Model"
   ]
  },
  {
   "cell_type": "code",
   "execution_count": 4,
   "metadata": {},
   "outputs": [
    {
     "name": "stdout",
     "output_type": "stream",
     "text": [
      "1/1 [==============================] - 0s 35ms/step\n",
      "\n",
      "The model predicts: ['Ankle boot', 'Pullover', 'Trouser'] with probabilities: [ 99.883  99.92  100.   ]\n",
      "\n",
      "The true labels are ['Ankle boot', 'Pullover', 'Trouser']\n"
     ]
    },
    {
     "data": {
      "image/png": "[encoded data removed]",
      "text/plain": [
       "<Figure size 640x480 with 3 Axes>"
      ]
     },
     "metadata": {},
     "output_type": "display_data"
    }
   ],
   "source": [
    "number_of_predictions = 3\n",
    "get_predictions(model, number_of_predictions)"
   ]
  },
  {
   "cell_type": "markdown",
   "metadata": {},
   "source": [
    "# Scan the Safe Model "
   ]
  },
  {
   "cell_type": "code",
   "execution_count": 5,
   "metadata": {},
   "outputs": [
    {
     "name": "stdout",
     "output_type": "stream",
     "text": [
      "Scanning /Users/mehrinkiani/Documents/modelscan/examples/TensorFlowModels/safe_model/fingerprint.pb using saved_model model scan\n",
      "Scanning /Users/mehrinkiani/Documents/modelscan/examples/TensorFlowModels/safe_model/keras_metadata.pb using saved_model model scan\n",
      "Scanning /Users/mehrinkiani/Documents/modelscan/examples/TensorFlowModels/safe_model/saved_model.pb using saved_model model scan\n",
      "\n",
      "\u001b[34m--- Summary ---\u001b[0m\n",
      "\n",
      "\u001b[32m No issues found! 🎉\u001b[0m\n"
     ]
    }
   ],
   "source": [
    "!modelscan -p ./TensorFlowModels/safe_model"
   ]
  },
  {
   "cell_type": "markdown",
   "metadata": {},
   "source": [
    "# Code Injection Attack"
   ]
  },
  {
   "cell_type": "code",
   "execution_count": 6,
   "metadata": {},
   "outputs": [],
   "source": [
    "unsafe_model = MaliciousModule(model)\n",
    "unsafe_model.build(input_shape=(None, 28,28))\n",
    "\n",
    "# Save the unsafe model\n",
    "unsafe_model_path = os.path.join(model_directory, \"unsafe_model\")\n",
    "unsafe_model.save(unsafe_model_path)"
   ]
  },
  {
   "cell_type": "markdown",
   "metadata": {},
   "source": [
    "# Model Prediction"
   ]
  },
  {
   "cell_type": "code",
   "execution_count": 7,
   "metadata": {},
   "outputs": [
    {
     "name": "stdout",
     "output_type": "stream",
     "text": [
      "File found: /tmp/aws_secret.txt\n",
      "aws_access_key_id=<access_key_id>\n",
      "aws_secret_access_key=<aws_secret_key>\n",
      "1/1 [==============================] - 0s 45ms/step\n",
      "\n",
      "The model predicts: ['Ankle boot', 'Pullover', 'Trouser'] with probabilities: [ 99.883  99.92  100.   ]\n",
      "\n",
      "The true labels are ['Ankle boot', 'Pullover', 'Trouser']\n"
     ]
    },
    {
     "data": {
      "image/png": "[encoded data removed]",
      "text/plain": [
       "<Figure size 640x480 with 3 Axes>"
      ]
     },
     "metadata": {},
     "output_type": "display_data"
    }
   ],
   "source": [
    "unsafe_model_loaded = tf.keras.models.load_model(unsafe_model_path)\n",
    "\n",
    "number_of_predictions = 3\n",
    "get_predictions(unsafe_model_loaded, number_of_predictions)"
   ]
  },
  {
   "cell_type": "markdown",
   "metadata": {},
   "source": [
    "# Scan the Unsafe Model"
   ]
  },
  {
   "cell_type": "code",
   "execution_count": 8,
   "metadata": {},
   "outputs": [
    {
     "name": "stdout",
     "output_type": "stream",
     "text": [
      "Scanning /Users/mehrinkiani/Documents/modelscan/examples/TensorFlowModels/unsafe_model/fingerprint.pb using saved_model model scan\n",
      "Scanning /Users/mehrinkiani/Documents/modelscan/examples/TensorFlowModels/unsafe_model/keras_metadata.pb using saved_model model scan\n",
      "Scanning /Users/mehrinkiani/Documents/modelscan/examples/TensorFlowModels/unsafe_model/saved_model.pb using saved_model model scan\n",
      "\n",
      "\u001b[34m--- Summary ---\u001b[0m\n",
      "\n",
      "Total Issues: \u001b[1;36m2\u001b[0m\n",
      "\n",
      "Total Issues By Severity:\n",
      "\n",
      "    - LOW: \u001b[1;32m0\u001b[0m\n",
      "    - MEDIUM: \u001b[1;32m0\u001b[0m\n",
      "    - HIGH: \u001b[1;36m2\u001b[0m\n",
      "    - CRITICAL: \u001b[1;32m0\u001b[0m\n",
      "\n",
      "\u001b[34m--- Issues by Severity ---\u001b[0m\n",
      "\n",
      "\u001b[34m--- HIGH ---\u001b[0m\n",
      "\n",
      "Unsafe operator found:\n",
      "  - Severity: HIGH\n",
      "  - Description: Use of unsafe operator 'ReadFile' from module 'Tensorflow'\n",
      "  - Source: /Users/mehrinkiani/Documents/modelscan/examples/TensorFlowModels/unsafe_model/saved_model.pb\n",
      "\n",
      "Unsafe operator found:\n",
      "  - Severity: HIGH\n",
      "  - Description: Use of unsafe operator 'WriteFile' from module 'Tensorflow'\n",
      "  - Source: /Users/mehrinkiani/Documents/modelscan/examples/TensorFlowModels/unsafe_model/saved_model.pb\n"
     ]
    }
   ],
   "source": [
    "!modelscan -p TensorFlowModels/unsafe_model"
   ]
  },
  {
   "cell_type": "code",
   "execution_count": null,
   "metadata": {},
   "outputs": [],
   "source": []
  }
 ],
 "metadata": {
  "kernelspec": {
   "display_name": "Python 3.9.16 ('modelscan')",
   "language": "python",
   "name": "python3"
  },
  "language_info": {
   "codemirror_mode": {
    "name": "ipython",
    "version": 3
   },
   "file_extension": ".py",
   "mimetype": "text/x-python",
   "name": "python",
   "nbconvert_exporter": "python",
   "pygments_lexer": "ipython3",
   "version": "3.9.16"
  },
  "orig_nbformat": 4,
  "vscode": {
   "interpreter": {
    "hash": "4dc76e75b8580a33bdc5a5a988b23a4143f70625528e602e356063408d11834c"
   }
  }
 },
 "nbformat": 4,
 "nbformat_minor": 2
}
