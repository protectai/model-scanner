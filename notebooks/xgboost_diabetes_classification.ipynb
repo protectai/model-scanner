{
 "cells": [
  {
   "cell_type": "markdown",
   "id": "bd852ab1",
   "metadata": {},
   "source": [
    "# Setup"
   ]
  },
  {
   "cell_type": "code",
   "execution_count": 1,
   "id": "00052a84",
   "metadata": {},
   "outputs": [],
   "source": [
    "!pip install -q modelscan"
   ]
  },
  {
   "cell_type": "code",
   "execution_count": 2,
   "id": "eb656ce5",
   "metadata": {},
   "outputs": [],
   "source": [
    "!pip install -q xgboost==1.7.6\n",
    "!pip install -U -q scikit-learn==1.3.0"
   ]
  },
  {
   "cell_type": "code",
   "execution_count": 3,
   "id": "06e8fc79",
   "metadata": {},
   "outputs": [],
   "source": [
    "import pickle\n",
    "from pathlib import Path\n",
    "import os\n",
    "import numpy as np\n",
    "from utils.pickle_codeinjection import generate_unsafe_file\n",
    "from utils.xgboost_diabetes_model import train_model, get_predictions"
   ]
  },
  {
   "cell_type": "markdown",
   "id": "063dd649",
   "metadata": {},
   "source": [
    "# Save a XGBoost Model\n",
    "\n",
    "The model is trained on a diabetes dataset, and predicts whether a person has diabetes or not. The dataset can be found here: [Link to PIMA Indian diabetes dataset](https://www.kaggle.com/datasets/uciml/pima-indians-diabetes-database). The model is saved at ```./XGBoostModels/safe_model.pkl```"
   ]
  },
  {
   "cell_type": "code",
   "execution_count": 4,
   "id": "015f415a",
   "metadata": {},
   "outputs": [],
   "source": [
    "model_directory = os.path.join(os.getcwd(), \"XGboostModels\")\n",
    "if not os.path.isdir(model_directory):\n",
    "    os.mkdir(model_directory)\n",
    "\n",
    "safe_model_path_pickle = os.path.join(model_directory, \"safe_model.pkl\")\n",
    "model = train_model()\n",
    "with open(safe_model_path_pickle, \"wb\") as fo:\n",
    "    pickle.dump(model, fo)"
   ]
  },
  {
   "cell_type": "markdown",
   "id": "51812303",
   "metadata": {},
   "source": [
    "# Predict using Safe Model"
   ]
  },
  {
   "cell_type": "code",
   "execution_count": 5,
   "id": "8b8d0327",
   "metadata": {},
   "outputs": [
    {
     "name": "stdout",
     "output_type": "stream",
     "text": [
      "The model predicts: [0, 1, 1]\n",
      "The true labels are: [0. 1. 1.]\n"
     ]
    }
   ],
   "source": [
    "number_of_predictions = 3\n",
    "get_predictions(number_of_predictions, model)"
   ]
  },
  {
   "cell_type": "markdown",
   "id": "fff6510d",
   "metadata": {},
   "source": [
    "# Scan the safe model\n",
    "\n",
    "The scan results include information on the files scanned, and any issues if found. For the safe model scanned, modelscan finds no code injections in it, as expected."
   ]
  },
  {
   "cell_type": "code",
   "execution_count": 6,
   "id": "ccfeee08",
   "metadata": {},
   "outputs": [
    {
     "name": "stdout",
     "output_type": "stream",
     "text": [
      "Scanning /Users/mehrinkiani/Documents/modelscan/notebooks/XGBoostModels/safe_model.pkl using pickle model scan\n",
      "\n",
      "\u001b[34m--- Summary ---\u001b[0m\n",
      "\n",
      "\u001b[32m No issues found! 🎉\u001b[0m\n"
     ]
    }
   ],
   "source": [
    "!modelscan -p XGBoostModels/safe_model.pkl"
   ]
  },
  {
   "cell_type": "markdown",
   "id": "985410d3",
   "metadata": {},
   "source": [
    "# Model Serialization Attack\n",
    "\n",
    "Here code is injected in the safe model to read aws secret keys. The unsafe model is saved at ```./XGBoostModels/unsafe_model.pkl```"
   ]
  },
  {
   "cell_type": "code",
   "execution_count": 7,
   "id": "d0e70069",
   "metadata": {},
   "outputs": [],
   "source": [
    "# Inject code with the command\n",
    "command = \"system\"\n",
    "malicious_code = \"\"\"cat ~/.aws/secrets\n",
    "    \"\"\""
   ]
  },
  {
   "cell_type": "code",
   "execution_count": 8,
   "id": "7bde73cd",
   "metadata": {},
   "outputs": [],
   "source": [
    "with open(safe_model_path_pickle, \"rb\") as fo:\n",
    "    safe_model_pickle = pickle.load(fo)\n",
    "\n",
    "unsafe_model_path = os.path.join(model_directory, \"unsafe_model.pkl\")\n",
    "generate_unsafe_file(model, command, malicious_code, unsafe_model_path)"
   ]
  },
  {
   "cell_type": "markdown",
   "id": "1798152e",
   "metadata": {},
   "source": [
    "# Predict using Unsafe Model\n",
    "\n",
    "The malicious code gets executed when the model is loaded. The aws secret keys are displayed. \n",
    "\n",
    "Also, the unsafe model predicts just as well as safe model i.e., the code injection attack will not impact the model performance. The unaffected performance of unsafe models makes the ML models an effective attack vector. "
   ]
  },
  {
   "cell_type": "code",
   "execution_count": 9,
   "id": "49d6c62f",
   "metadata": {},
   "outputs": [
    {
     "name": "stdout",
     "output_type": "stream",
     "text": [
      "aws_access_key_id=<access_key_id>\n",
      "aws_secret_access_key=<aws_secret_key>\n",
      "The model predicts: [0, 1, 1]\n",
      "The true labels are: [0. 1. 1.]\n"
     ]
    }
   ],
   "source": [
    "with open(unsafe_model_path, \"rb\") as fo:\n",
    "    unsafe_model = pickle.load(fo)\n",
    "\n",
    "get_predictions(number_of_predictions, unsafe_model)"
   ]
  },
  {
   "cell_type": "markdown",
   "id": "72584048",
   "metadata": {},
   "source": [
    "# Scan the Unsafe Model\n",
    "\n",
    "The scan results include information on the files scanned, and any issues if found. In this case, a critical severity level issue is found in the unsafe model scanned. \n",
    "\n",
    "modelscan also outlines the found operator(s) and module(s) deemed unsafe. "
   ]
  },
  {
   "cell_type": "code",
   "execution_count": 10,
   "id": "9ee3393e",
   "metadata": {},
   "outputs": [
    {
     "name": "stdout",
     "output_type": "stream",
     "text": [
      "Scanning /Users/mehrinkiani/Documents/modelscan/notebooks/XGBoostModels/unsafe_model.pkl using pickle model scan\n",
      "\n",
      "\u001b[34m--- Summary ---\u001b[0m\n",
      "\n",
      "Total Issues: \u001b[1;36m1\u001b[0m\n",
      "\n",
      "Total Issues By Severity:\n",
      "\n",
      "    - LOW: \u001b[1;32m0\u001b[0m\n",
      "    - MEDIUM: \u001b[1;32m0\u001b[0m\n",
      "    - HIGH: \u001b[1;32m0\u001b[0m\n",
      "    - CRITICAL: \u001b[1;36m1\u001b[0m\n",
      "\n",
      "\u001b[34m--- Issues by Severity ---\u001b[0m\n",
      "\n",
      "\u001b[34m--- CRITICAL ---\u001b[0m\n",
      "\n",
      "Unsafe operator found:\n",
      "  - Severity: CRITICAL\n",
      "  - Description: Use of unsafe operator 'system' from module 'posix'\n",
      "  - Source: /Users/mehrinkiani/Documents/modelscan/notebooks/XGBoostModels/unsafe_model.pkl\n"
     ]
    }
   ],
   "source": [
    "!modelscan -p XGBoostModels/unsafe_model.pkl"
   ]
  },
  {
   "cell_type": "code",
   "execution_count": null,
   "id": "6df55b3e",
   "metadata": {},
   "outputs": [],
   "source": []
  }
 ],
 "metadata": {
  "kernelspec": {
   "display_name": "Python 3.9.16 ('notebooks-xgb-2')",
   "language": "python",
   "name": "python3"
  },
  "language_info": {
   "codemirror_mode": {
    "name": "ipython",
    "version": 3
   },
   "file_extension": ".py",
   "mimetype": "text/x-python",
   "name": "python",
   "nbconvert_exporter": "python",
   "pygments_lexer": "ipython3",
   "version": "3.9.16"
  },
  "vscode": {
   "interpreter": {
    "hash": "8792b9cba3843e3778a70fb92fd4a6e11f0e29f4d97b60d08b903ca0b490cce6"
   }
  }
 },
 "nbformat": 4,
 "nbformat_minor": 5
}
